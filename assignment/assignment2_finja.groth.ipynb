{
 "cells": [
  {
   "cell_type": "markdown",
   "metadata": {
    "id": "LZgQdr4W6iKz"
   },
   "source": [
    "# Assignment 02\n",
    "##### Python Basics II\n",
    "\n",
    "This tutorial was written by Terry Ruas (University of Göttingen); The references for external contributors for which this material was anyhow adapted/inspired are in the Acknowledgments section (end of the document).\n"
   ]
  },
  {
   "cell_type": "markdown",
   "metadata": {
    "id": "Yvektzz_6iK1"
   },
   "source": [
    "This notebook will cover the following tasks:\n",
    "\n",
    "1. String Length\n",
    "2. Largest List Element\n",
    "3. Character Frequency\n",
    "4. Sorted List of Tuples\n",
    "5. Check Brackets\n",
    "6. Check Brackets II\n",
    "7. Queue\n",
    "8. Unlimited Power\n",
    "9. Unlimited Power II"
   ]
  },
  {
   "cell_type": "markdown",
   "metadata": {
    "id": "4GPUv_8U6iK1"
   },
   "source": [
    "## Task 01 – String Length\n",
    "Write a program that reads in a string and prints the length of the input string. Do not use any built-in functions of Python, such as len().\n",
    "For example, if the input is “Computer Science”, the output should be length: 16."
   ]
  },
  {
   "cell_type": "code",
   "execution_count": 28,
   "metadata": {
    "id": "xt3XV0YD6iK2"
   },
   "outputs": [
    {
     "name": "stdin",
     "output_type": "stream",
     "text": [
      " hello word\n"
     ]
    },
    {
     "name": "stdout",
     "output_type": "stream",
     "text": [
      "10\n"
     ]
    }
   ],
   "source": [
    "word = input()\n",
    "position=0\n",
    "while word[position:]:\n",
    "    position += 1\n",
    "    \n",
    "   \n",
    "print(position)"
   ]
  },
  {
   "cell_type": "markdown",
   "metadata": {
    "id": "_Jz4T4AQ6iK3"
   },
   "source": [
    "## Task 02 – Largest List Element\n",
    "Write a program that generates a list of 10 random integers between 1 and 100 and then finds and prints the largest element in the list. Do not use the built-in function max().\n",
    "For example, if the input is [23,3,42,29,12,15,8,4,37,34], the output should be the largest element: 42.\n",
    "\n",
    "Hint: Check out the module [random](https://docs.python.org/3.7/library/random.html)."
   ]
  },
  {
   "cell_type": "code",
   "execution_count": 44,
   "metadata": {
    "id": "aKLGcZ0_6iK3"
   },
   "outputs": [
    {
     "name": "stdout",
     "output_type": "stream",
     "text": [
      "random numers: [19, 27, 5, 10, 93, 96, 13, 87, 65, 49]\n",
      "random numers sorted: [5, 10, 13, 19, 27, 49, 65, 87, 93, 96]\n",
      "highest number: 96\n"
     ]
    }
   ],
   "source": [
    "import random\n",
    "numbers = range(100)\n",
    "x = random.sample(numbers, 10)\n",
    "\n",
    "print(\"random numers:\", x)\n",
    "\n",
    "x_sorted = sorted(x)\n",
    "\n",
    "print(\"random numers sorted:\" ,x_sorted)\n",
    "\n",
    "print(\"highest number:\", x_sorted[-1])"
   ]
  },
  {
   "cell_type": "markdown",
   "metadata": {
    "id": "PalhJ9x36iK4"
   },
   "source": [
    "## Task 03 – Character Frequency\n",
    "Write a program that:\n",
    "* Reads in a string and removes any spaces from the string\n",
    "* Counts how often individual characters occur in the string\n",
    "* Stores the information on character occurrence frequency in a dictionary\n",
    "* Prints the dictionary.\n",
    "\n",
    "For example, if the input is “santa claus”, the output should be:\n",
    "{'s': 2, 'a': 3, 'n': 1, 't': 1, 'c': 1, 'l': 1, 'u': 1}."
   ]
  },
  {
   "cell_type": "code",
   "execution_count": 65,
   "metadata": {
    "id": "vm5UlcKB6iK4"
   },
   "outputs": [
    {
     "name": "stdin",
     "output_type": "stream",
     "text": [
      " h e l l o\n"
     ]
    },
    {
     "name": "stdout",
     "output_type": "stream",
     "text": [
      "5\n",
      "{'h': 1, 'e': 1, 'l': 2, 'o': 1}\n"
     ]
    }
   ],
   "source": [
    "word3 = input()\n",
    "word3_new = word3.replace(\" \", \"\")\n",
    "\n",
    "print(len(word3_new))\n",
    "\n",
    "\n",
    "character_dic = {} #dict erstellen\n",
    "\n",
    "for i in word3_new:\n",
    "    character_count= word3_new.count(i) #counts caracters\n",
    "    character_dic[i] = character_count \n",
    "    \n",
    "print(character_dic)\n",
    "\n",
    "    \n",
    "\n"
   ]
  },
  {
   "cell_type": "markdown",
   "metadata": {
    "id": "JV1Mm9qA6iK5"
   },
   "source": [
    "## Task 04 – Sorted List of Tuples\n",
    "Write a program that:\n",
    "* Generates a list of 10 tuples, each tuple consisting of 3 random integers between 1 and 100\n",
    "* Sorts the list of tuples in increasing order of the third element in each tuple\n",
    "* Prints the sorted list of tuples\n",
    "\n",
    "For example, if the generated input list is: [(56, 77, 69), (43, 30, 38), (2, 77, 101), (93, 57, 4), (74, 21, 77), (39, 68, 68), (65, 53, 96), (16, 29, 88), (88, 70, 38)]\n",
    "The output should be: [(93, 57, 4), (43, 30, 38), (88, 70, 38), (39, 68, 68), (56, 77, 69), (74, 21, 77), (16, 29, 88), (65, 53, 96), (2, 77, 101)]\n",
    "\n",
    "Hint: You are allowed and encouraged to use built-in functions, such as [sorted()](https://docs.python.org/3.7/library/functions.html?highlight=sorted#sorted), for this task."
   ]
  },
  {
   "cell_type": "code",
   "execution_count": 119,
   "metadata": {
    "id": "C3i7ctus6iK6"
   },
   "outputs": [
    {
     "name": "stdout",
     "output_type": "stream",
     "text": [
      "<class 'list'>\n",
      "[(90, 68, 58), (35, 52, 22), (19, 95, 37), (42, 71, 80), (64, 72, 26), (93, 83, 34), (4, 83, 40), (46, 33, 75), (21, 98, 65), (8, 18, 3)]\n",
      "[(8, 18, 3), (35, 52, 22), (64, 72, 26), (93, 83, 34), (19, 95, 37), (4, 83, 40), (90, 68, 58), (21, 98, 65), (46, 33, 75), (42, 71, 80)]\n"
     ]
    }
   ],
   "source": [
    "import random\n",
    "numbers = range(100)\n",
    "i = tuple(random.sample(numbers, 3))\n",
    "\n",
    "x2= [tuple(random.sample(numbers, 3)),tuple(random.sample(numbers, 3)),tuple(random.sample(numbers, 3)),tuple(random.sample(numbers, 3)),tuple(random.sample(numbers, 3)),tuple(random.sample(numbers, 3)),tuple(random.sample(numbers, 3)),tuple(random.sample(numbers, 3)),tuple(random.sample(numbers, 3)),tuple(random.sample(numbers, 3))]\n",
    "\n",
    "print(type(x2))\n",
    "   \n",
    "\n",
    "print(x2)\n",
    "def take_last(elem):\n",
    "    return elem[-1]\n",
    "\n",
    "sorted_tuples= sorted(x2, key= take_last)\n",
    "print(sorted_tuples)"
   ]
  },
  {
   "cell_type": "markdown",
   "metadata": {
    "id": "qz4P36Lz6iK6"
   },
   "source": [
    "## Task 05 – Check Brackets\n",
    "Write a program that reads in a string, which is supposed to be a mathematical expression. Focus on brackets only and check whether left and right brackets are composed correctly. Ignore all other characters (i.e. you don’t have to check correctness of operators and operands).\n",
    "Examples of correct input:\n",
    "* 3*(2+5)\n",
    "* ((()())())\n",
    "* (3+)(((4)))\n",
    "* Empty string\n",
    "\n",
    "Examples of incorrect input:\n",
    "* (3*(2+5)\n",
    "* ((()())(())\n",
    "* (3+)((4)))\n",
    "* ())(()\n"
   ]
  },
  {
   "cell_type": "code",
   "execution_count": 54,
   "metadata": {
    "id": "2c67p_Zc6iK7"
   },
   "outputs": [
    {
     "name": "stdin",
     "output_type": "stream",
     "text": [
      " (())\n"
     ]
    },
    {
     "name": "stdout",
     "output_type": "stream",
     "text": [
      "True\n",
      "[]\n"
     ]
    }
   ],
   "source": [
    "MyStr= input()\n",
    "\n",
    "def check_brackets(MyStr):\n",
    "    d = {\")\":\"(\"}\n",
    "    list_ = []\n",
    "    \n",
    "    for index, item in enumerate(MyStr):\n",
    "        if item in d.values():\n",
    "            list_.append(item)\n",
    "\n",
    "        elif (item in d.keys()) and (d.get(item) in list_):\n",
    "            list_.pop()\n",
    "\n",
    "    if len(list_)== 0:\n",
    "        print(\"True\")\n",
    "    else:\n",
    "        print(\"False\")\n",
    "    print(list_)\n",
    "\n",
    "check_brackets(MyStr) "
   ]
  },
  {
   "cell_type": "markdown",
   "metadata": {
    "id": "k1kh3odh6iK7"
   },
   "source": [
    "## Task 06 – Check Brackets II\n",
    "Extend previous program, so it can handle also square and curly brackets. Note that expressions in brackets cannot overlap. So, expression ```{[()()]([[]])}{}``` is correct, but expression ```([)]``` is not."
   ]
  },
  {
   "cell_type": "code",
   "execution_count": null,
   "metadata": {
    "id": "2-UCbTRQ6iK7"
   },
   "outputs": [],
   "source": []
  },
  {
   "cell_type": "markdown",
   "metadata": {
    "id": "tc-8rPlP6iK7"
   },
   "source": [
    "## Task 07 – Queue\n",
    "Write a program that simulates a queue. It will read strings from the input. Consider these inputs as names of people coming to the end of a queue. Whenever “next” is given as input, the program will print out the name on the turn. The program finishes as soon as the queue is empty."
   ]
  },
  {
   "cell_type": "code",
   "execution_count": null,
   "metadata": {
    "id": "X0o04N6s6iK7"
   },
   "outputs": [],
   "source": []
  },
  {
   "cell_type": "markdown",
   "metadata": {
    "id": "eIhaN3g36iK8"
   },
   "source": [
    "## Task 08 – Unlimited Power\n",
    "Write a function with two arguments – $x$ and $n$. The function returns the value of $x^n$. Use [recursion](https://realpython.com/python-thinking-recursively/#recursive-data-structures-in-python)."
   ]
  },
  {
   "cell_type": "code",
   "execution_count": null,
   "metadata": {
    "id": "KSGHEAeL6iK8"
   },
   "outputs": [],
   "source": []
  },
  {
   "cell_type": "markdown",
   "metadata": {
    "id": "WBh2WBXY6iK8"
   },
   "source": [
    "## Task 09 – Unlimited Power II\n",
    "Using function for factorial and function $x^n$ from previous task, write a program that reads value of $x$ and prints approximate value of $e^x$. Use this formula (Taylor series) for calculation\n",
    "$$ e^x = 1 + x + \\frac{x^2}{2!} + \\frac{x^3}{3!} + ... + \\frac{x^n}{n!} $$\n",
    "\n",
    "To get precise value of $e^x$, the series would have to be infinite. Suppose that there is some required accuracy, so the calculation finishes as soon as the value of the next element is smaller than given threshold (e.g., 0.000001)."
   ]
  },
  {
   "cell_type": "code",
   "execution_count": null,
   "metadata": {
    "id": "tRaZgBVX6iK9"
   },
   "outputs": [],
   "source": []
  },
  {
   "cell_type": "markdown",
   "metadata": {
    "id": "Wl9JCEYM6iK-"
   },
   "source": [
    "## Acknowledgements\n",
    "\n",
    "Redmond, Hsu, Saini, Gupta, Ramsey, Kondrich, Capoor, Cohen, Borus, Kincaid, Malik, and many others. - Stanford CS41"
   ]
  },
  {
   "cell_type": "code",
   "execution_count": null,
   "metadata": {
    "id": "Bx-WQj4v6iK-"
   },
   "outputs": [],
   "source": []
  }
 ],
 "metadata": {
  "colab": {
   "provenance": []
  },
  "kernelspec": {
   "display_name": "Python 3 (ipykernel)",
   "language": "python",
   "name": "python3"
  },
  "language_info": {
   "codemirror_mode": {
    "name": "ipython",
    "version": 3
   },
   "file_extension": ".py",
   "mimetype": "text/x-python",
   "name": "python",
   "nbconvert_exporter": "python",
   "pygments_lexer": "ipython3",
   "version": "3.10.6"
  }
 },
 "nbformat": 4,
 "nbformat_minor": 4
}
